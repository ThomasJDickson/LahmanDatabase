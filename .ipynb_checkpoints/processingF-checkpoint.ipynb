{
 "cells": [
  {
   "cell_type": "markdown",
   "metadata": {},
   "source": [
    "Before you turn this problem in, make sure everything runs as expected. First, **restart the kernel** (in the menubar, select Kernel$\\rightarrow$Restart) and then **run all cells** (in the menubar, select Cell$\\rightarrow$Run All).\n",
    "\n",
    "Make sure you fill in any place that says `YOUR CODE HERE`/`raise NotImplementedError` or \"YOUR ANSWER HERE\", as well as your name and collaborators below:"
   ]
  },
  {
   "cell_type": "markdown",
   "metadata": {},
   "source": [
    "**Jay Dickson and Jill Reiner**"
   ]
  },
  {
   "cell_type": "markdown",
   "metadata": {},
   "source": [
    "# Processing and SQL for Relational Database Project"
   ]
  },
  {
   "cell_type": "code",
   "execution_count": 1,
   "metadata": {},
   "outputs": [],
   "source": [
    "import pandas as pd\n",
    "import os\n",
    "import os.path\n",
    "import json\n",
    "import sqlalchemy as sa\n",
    "from IPython.display import Image\n",
    "\n",
    "db_source = \"sqlite\"\n",
    "datadir = \"02_project/\""
   ]
  },
  {
   "cell_type": "code",
   "execution_count": 2,
   "metadata": {},
   "outputs": [],
   "source": [
    "def getsqlite_info(dirname=\".\",filename=\"creds.json\"):\n",
    "    \"\"\" \n",
    "    Purpose:open a credentials file and obtain the four parts needed for a connection string to\n",
    "        a remote provider using the \"mysql\" dictionary within\n",
    "        an outer dictionary.\n",
    "    Parameters:\n",
    "        directory: directory name\n",
    "        filename: filename to use\n",
    "    Return\n",
    "        scheme, server, user, and password\n",
    "    \"\"\"\n",
    "    assert os.path.isfile(os.path.join(dirname, filename))\n",
    "    with open(os.path.join(dirname, filename)) as f:\n",
    "        D = json.load(f)\n",
    "    sqlite = D[\"sqlite\"]\n",
    "    return sqlite[\"scheme\"], sqlite[\"basepath\"], sqlite[\"database\"]"
   ]
  },
  {
   "cell_type": "code",
   "execution_count": 3,
   "metadata": {},
   "outputs": [],
   "source": [
    "def dataFrameToCSV(dataFrame, fileName):\n",
    "    \"\"\"\n",
    "    Purpose: to write a dataframe to a CSV\n",
    "    Parameters:\n",
    "        dataFame: the dataframe to be written to a CSV\n",
    "        fileName: the name of the file to be written given as a string\n",
    "    Return:\n",
    "        CSV: the CSV file in the local directory\n",
    "    \"\"\"\n",
    "    CSV = dataFrame.to_csv(fileName + '.csv') #converts pandas dataframe to CSV file\n",
    "    return CSV"
   ]
  },
  {
   "cell_type": "code",
   "execution_count": 4,
   "metadata": {},
   "outputs": [],
   "source": [
    "def hr_so(dbcon, yearstart, yearend, ABthresh):\n",
    "    \"\"\"\n",
    "    Purpose: create a dataframe to show the correlation between strikeouts and home runs\n",
    "    Parameters:\n",
    "        dbcon: the database which will be connecting to\n",
    "        yearstart: the start year to look at\n",
    "        yearend: the end year to look at\n",
    "        ABthresh: a cutoff threshold for at bats\n",
    "    Return:\n",
    "        df: a dataframe\n",
    "    \"\"\"\n",
    "    query1 = \"\"\"\n",
    "    SELECT DISTINCT b.yearID AS Year, b.teamID, t.lgID, b.HR, b.SO AS K, -- selects year, team, league, home runs, strikeouts\n",
    "        p.nameLast ||', '|| p.nameFirst AS name -- creates a new column of name using the format lastname, firstname\n",
    "    FROM batting AS b INNER JOIN teams as t -- join batting and teams\n",
    "        ON t.teamID = b.teamId -- common field is teamID\n",
    "    INNER JOIN people AS p -- join with people table\n",
    "        USING(playerID) -- common field is playerID\n",
    "    WHERE b.yearID BETWEEN '{}' AND '{}' -- user can input any year range\n",
    "    AND b.AB > '{}' -- user can input any at bat threshold\n",
    "    \"\"\"\n",
    "    \n",
    "    query = query1.format(yearstart, yearend, ABthresh) #uses query and parameters inputted\n",
    "    df = pd.read_sql_query(query, con = dbcon) #converts query to dataframe\n",
    "    return df"
   ]
  },
  {
   "cell_type": "code",
   "execution_count": 5,
   "metadata": {},
   "outputs": [],
   "source": [
    "def RBI_byPOS(dbcon, yearstart, yearend, ABthresh, excludePOS):\n",
    "    \"\"\"\n",
    "    Purpose: create a dataframe to show the correlation between RBIs and Positions\n",
    "    Parameters:\n",
    "        dbcon: the database which will be connecting to\n",
    "        yearstart: the start year to look at\n",
    "        yearend: the end year to look at\n",
    "        ABthresh: a cutoff threshold for at bats\n",
    "        excludePOS: positions we do not want to include in the dataframe\n",
    "    Return:\n",
    "        df: a dataframe\n",
    "    \"\"\"\n",
    "    query2 = \"\"\"\n",
    "    SELECT DISTINCT b.yearID, b.teamID, POS, RBI, -- select year, team, position, RBI\n",
    "           nameLast ||', '|| nameFirst AS name -- creates new column with name, same as last function\n",
    "    FROM batting AS b LEFT JOIN people AS p -- join batting and people using common field of playerID\n",
    "        USING(playerID) INNER JOIN fielding AS f -- join with fielding\n",
    "            USING(playerID) -- using common field of playerID\n",
    "    WHERE b.yearID >= :low AND b.yearID < :high AND b.AB > :thresh AND POS <> :exclude -- bindparams operations, explained below\n",
    "    ORDER BY RBI DESC\n",
    "    LIMIT 250\n",
    "    \"\"\"\n",
    "    \n",
    "    prepare_stmt = sa.sql.text(query2) #prepare statement, combination of SQL syntax and elements designating the places where the value of a variable should be substituted\n",
    "    bound_stmt = prepare_stmt.bindparams(low = yearstart, high = yearend, thresh = ABthresh, exclude = excludePOS) #bindparams uses named parameters as its arguments, where the named parameters are named similarly to the required fields of our query\n",
    "    df = pd.read_sql_query(bound_stmt, con = dbcon) #executes our bound_stmt, same operation as fetchall() or execute(), turns into dataframe\n",
    "    return df"
   ]
  },
  {
   "cell_type": "code",
   "execution_count": 6,
   "metadata": {},
   "outputs": [],
   "source": [
    "def HR_HOF(dbcon, year=2019):\n",
    "    \"\"\"\n",
    "    Purpose: to find the league leader in Home Runs for given years and determine if they are in the Hall of Fame\n",
    "    Parameters:\n",
    "        dbcon: the database which will be connecting to\n",
    "        year: the end year for filtering\n",
    "    Return:\n",
    "        df3: a dataframe which will be used to make into a CSV\n",
    "    \"\"\"\n",
    "    query3 = \"\"\"\n",
    "    SELECT Name, Year, HomeRun, IFNULL(HOF,'N') AS HOF FROM\n",
    "        (SELECT BT.yearID AS Year, pl.nameLast ||', '|| pl.nameFirst AS Name, teamID AS Team, MAX(BT.HR) AS HomeRun, inducted AS HOF\n",
    "        FROM batting AS BT LEFT JOIN halloffame\n",
    "            USING(playerID)\n",
    "        LEFT JOIN people AS pl\n",
    "            USING(playerID)\n",
    "        WHERE BT.yearID <= {}\n",
    "        GROUP BY BT.yearID\n",
    "        ORDER BY BT.yearID) AS BestHitters\n",
    "    GROUP BY Name\n",
    "    ORDER BY HomeRun DESC\n",
    "    \"\"\"\n",
    "    \n",
    "    query3 = query3.format(year) # change the year given in parameter\n",
    "    df3 = pd.read_sql_query(query3, con = dbcon,index_col=\"Year\") # a dataframe from the SQL Query\n",
    "    return df3"
   ]
  },
  {
   "cell_type": "code",
   "execution_count": 7,
   "metadata": {},
   "outputs": [],
   "source": [
    "def team_avg(dbcon, BPthresh, yearstart, yearend):\n",
    "    \"\"\"\n",
    "    Purpose: create a dataframe to show the correlation between strikeouts and home runs\n",
    "    Parameters:\n",
    "        dbcon: the database which will be connecting to\n",
    "        BPthresh: Batting average threshold, the minimum threshold we seek to look at\n",
    "        yearstart: the start year to look at\n",
    "        yearend: the end year to look at\n",
    "    Return:\n",
    "        df: a dataframe\n",
    "    \"\"\"\n",
    "    query4 = \"\"\"\n",
    "    SELECT yearID AS year, lgID AS league, teamID, avg(BP) AS avg_ba -- selects year, league, team, and batting average from subquery\n",
    "    FROM (SELECT b.teamID, b.yearID, l.lgID, (1.0 * b.H / b.AB) AS BP -- subquery computes batting percentage field\n",
    "          FROM batting AS b LEFT JOIN leagues AS l -- join batting and leagues\n",
    "             USING(lgID) -- using common field, lgID\n",
    "          WHERE BP <> '{}' AND -- choose what you don't want batting percentage to be equal to\n",
    "            b.yearID > '{}' AND -- choose start year\n",
    "            b.yearID < '{}') -- choose end year\n",
    "    GROUP BY yearID, teamID -- group by year and team\n",
    "    ORDER BY avg_ba DESC\n",
    "    \"\"\"\n",
    "    \n",
    "    query = query4.format(BPthresh, yearstart, yearend) #uses query and parameters inputted\n",
    "    df = pd.read_sql_query(query, con = dbcon) #converts to pandas dataframe\n",
    "    return df"
   ]
  },
  {
   "cell_type": "code",
   "execution_count": 8,
   "metadata": {},
   "outputs": [],
   "source": [
    "def main():\n",
    "    if db_source == \"sqlite\":\n",
    "        scheme, basepath, db = getsqlite_info()\n",
    "        template = '{}:///{}.db'\n",
    "        cstring = template.format(scheme, os.path.join(basepath, db))\n",
    "    elif db_source == \"mysql\":\n",
    "        scheme, server, user, password, db = getmysql_creds()\n",
    "        template = '{}://{}:{}@{}/{}'\n",
    "        cstring = template.format(scheme, user, password, server,db)\n",
    "    else:\n",
    "        raise ValueEror\n",
    "\n",
    "    engine=sa.create_engine(cstring)\n",
    "#     connection = engine.connect()\n",
    "    with engine.connect() as connection:\n",
    "        %load_ext sql\n",
    "        %sql $cstring\n",
    "\n",
    "        yearstart = \"\"\"2015\"\"\"\n",
    "        yearend = \"\"\"2020\"\"\"\n",
    "        ABthresh = \"\"\"500\"\"\"\n",
    "        df1 = hr_so(connection, yearstart, yearend, ABthresh)\n",
    "        dataFrameToCSV(df1,'hr_so')\n",
    "\n",
    "        df2 = RBI_byPOS(connection, 2000, 2020, 0, 'P')\n",
    "        dataFrameToCSV(df2, 'RBIbyPOS')\n",
    "\n",
    "        df3 = HR_HOF(connection, 2005)\n",
    "        dataFrameToCSV(df3, 'HR_HOF')\n",
    "\n",
    "        BPthresh = \"\"\"0\"\"\"\n",
    "        yearstart = \"\"\"1919\"\"\"\n",
    "        yearend = \"\"\"2020\"\"\"\n",
    "        df4 = team_avg(connection, BPthresh, yearstart, yearend)\n",
    "        dataFrameToCSV(df4, 'TeamAvg')"
   ]
  },
  {
   "cell_type": "code",
   "execution_count": 9,
   "metadata": {},
   "outputs": [],
   "source": [
    "main()"
   ]
  }
 ],
 "metadata": {
  "kernelspec": {
   "display_name": "Python 3",
   "language": "python",
   "name": "python3"
  },
  "language_info": {
   "codemirror_mode": {
    "name": "ipython",
    "version": 3
   },
   "file_extension": ".py",
   "mimetype": "text/x-python",
   "name": "python",
   "nbconvert_exporter": "python",
   "pygments_lexer": "ipython3",
   "version": "3.7.4"
  }
 },
 "nbformat": 4,
 "nbformat_minor": 4
}
