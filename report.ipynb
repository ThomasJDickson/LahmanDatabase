{
 "cells": [
  {
   "cell_type": "markdown",
   "metadata": {},
   "source": [
    "Before you turn this problem in, make sure everything runs as expected. First, **restart the kernel** (in the menubar, select Kernel$\\rightarrow$Restart) and then **run all cells** (in the menubar, select Cell$\\rightarrow$Run All).\n",
    "\n",
    "Make sure you fill in any place that says `YOUR CODE HERE`/`raise NotImplementedError` or \"YOUR ANSWER HERE\", as well as your name and collaborators below:"
   ]
  },
  {
   "cell_type": "markdown",
   "metadata": {},
   "source": [
    "# Baseball Data: Relational Database Project"
   ]
  },
  {
   "cell_type": "markdown",
   "metadata": {},
   "source": [
    "## Introduction:\n",
    "\n",
    "Sean Lahman is the manager of the largest repository of baseball data which is available to the public. An avid baseball  fan, he has compiled data in multiple tables such that the public can easily access and view the data. Originally produced in 1995, \"The Lahman Baseball Database\" is updated yearly to account data produced with each additional season. It covers all of baseball from 1871 and on. This data is organized in multiple tables, what is called a relational database model. Essentially this means that each team, player, and season statistics reside in different, interconnected tables. There is an incredible amount of data compiled in this database, but due to this size, it can be rather difficult to work with. Further information about the data can be found here: [Lahman Database](https://docs.google.com/document/d/1Q6Mn2g_QT6u0_tcwRbXYp51eEhdzQceiochoI2GATEA/edit).\n",
    "\n",
    "For this project, we used SQL and wrote queries in order to access the data. These queries would specify which data table we wanted and which elements should be accessed. Through different SQL techniques, we were able to group certain columns and establish various cutoffs, writing functions that abstracted queries and made them reproducable. SQL was used for much of the data wrangling and manipulation while Python's pandas library enabled us to write the resultant tables into CSV's. Finally, graphics were produced using Tableau. These graphics aimed to answer questions which I will discuss in the next section.\n",
    "\n",
    "Since we were a two person group, we wrote four different SQL queries for four different questions. Question 1 asked if strikeouts increase, do homeruns increase or decrease. We looked at this from 2015-2019. For question 2, we asked is there was a position which produces the most RBI's? Question 3 looked at people who have lead the league in Home Runs and asked if a player lead the league in home runs for one season, how likely was it for them to be in the Hall of Fame? Finally, question 4 asked how have batting averages have changed since the 2000 season? We were able to solve these questions using a variety of data wrangling techniques and producing a number of interesting charts below."
   ]
  },
  {
   "cell_type": "markdown",
   "metadata": {},
   "source": [
    "## Question 2:\n",
    "\n",
    "In question 2, we wanted to discover if there was a position which hit more RBI's than other positions. We wanted to look at the most recent years of baseball in order to try and uncover this trend so we looked at seasons played from 2000-2018. With this in my mind, we created a CSV mapping from Year, Team, Player Name to League, Position and RBI's. Then we worked in Tableau to create our visualizations. Using these most recent years eliminated possibly faulty data recorded from baseball's early days and allowed us to account for stronger and more results driven athletes. Ultimately, we produced the following scatter plot to show how RBI's varied by position. One important note is that we made the decision to exclude both Designated Hitters and Pitchers. We did this because half the teams in the MLB use Designated Hitters while the other half uses Pitchers in at bats. This has to do with the rules governing baseball.\n",
    "\n",
    "<img src=\"RBIbyPOS.jpg\" width=\"400\">\n",
    "\n",
    "From this scatter plot, it seems that first baseman tend to bat in the most RBI's out of all other position players. The main reason for this seems to be that first baseman usually are the worst fielders for a team. They are given a position in the field so their batting prowess can be used. It is the least mobile position in the field and first baseman have the heaviest bats (hit the farthest). The opposite can be said of short stops. Short stops may have the least RBI's because they are employed for their fielding abilities. They are the most agile fielders and are an important piece to a team's defense. Lastly, outfielders seems to have a flaw. Since there are three outfielders per team, it would be beneficial if if it was labelled by right fielder, left fielder and center fielder. So here, we have the aggregation of three different positions, creating a possible fault in the data."
   ]
  },
  {
   "cell_type": "markdown",
   "metadata": {},
   "source": [
    "## Question 3:\n",
    "\n",
    "Question 3 was concerned with the likelihood that if someone lead the league in Home Runs for at least one year, how likely was it that they would be inducted to the Hall of Fame? One of the main complications of this was Hall of Fame eligibility. This is because in roder to be considered eligible, a player must have been retired for at least five years. To combat this, we attempted to filter players out, however this created incosistencies in the data as players who did not lead the league in Home Runs were often considered for the Hall of Fame. This did not work in the data and we were forced to consider every year, unretired players were simply counted as not in the Hall of Fame. A functional dependency was created, mapping from year to maximum home runs, player name and Hall of Fame status. We generated the following table to illustrate this effect.\n",
    "\n",
    "![HRHOF](HR_HOF_Tableau.jpg)\n",
    "\n",
    "From this, it was difficult to tell how big of a role leading the league in home runs would havae on a players career. IT appeared that about one-third of the players who lead the league in home runs would wind up making it into the Hall of Fame. However, when we look at the names on this list, it seems that there are some really important figures left out of the Hall of Fame. Both Barry Bonds and Mark McGwire have lead the league and are Hall of Fame eligible, but due to scandals about Performance Enhancing Drugs (PED's) have been left out of the Hall of Fame. It is quite possible there are a number of people who have lead the league in Home Run's, however their name has been given an asterisk when it comes to Hall of Fame induction. We can certainly conclude that there is a lot more that determines a players Hall of Fame status than Home Runs hit over one year. This graph shows that people are elected based upon their entire career and one season cannot make or break a players Hall of Fame status. Additionally, it is likely that the very limited spots in the Hall of Fame have been reserved for people that have pushed the game forward rather than being caught up in irreversible scandals (like this one from the Astros 2017 season: https://www.nytimes.com/article/astros-cheating.html).\n",
    "\n",
    "Many factors determine a player's spot in the Baseball Hall of Fame, so we should not be surprised when one season is not the best indicator for Hall of Fame induction."
   ]
  },
  {
   "cell_type": "markdown",
   "metadata": {},
   "source": [
    "## Question 4:\n",
    "\n",
    "Finally, we wanted to see how batting averages changed since 2000. Going into this, we believed that as hitters became more capable and data began taking over baseball, we would expect to see batting averages rise. The graphs we produced showed how pitchers have grown and adpated to the hitters against how hitters have grown and adapted the pitchers. "
   ]
  }
 ],
 "metadata": {
  "kernelspec": {
   "display_name": "Python 3",
   "language": "python",
   "name": "python3"
  },
  "language_info": {
   "codemirror_mode": {
    "name": "ipython",
    "version": 3
   },
   "file_extension": ".py",
   "mimetype": "text/x-python",
   "name": "python",
   "nbconvert_exporter": "python",
   "pygments_lexer": "ipython3",
   "version": "3.7.4"
  }
 },
 "nbformat": 4,
 "nbformat_minor": 4
}
